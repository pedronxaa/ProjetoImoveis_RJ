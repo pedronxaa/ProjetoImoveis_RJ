{
 "cells": [
  {
   "cell_type": "code",
   "execution_count": 2,
   "id": "d919eeeb",
   "metadata": {},
   "outputs": [],
   "source": [
    "import cloudscraper\n",
    "from bs4 import BeautifulSoup\n",
    "import pandas as pd\n",
    "import time"
   ]
  },
  {
   "cell_type": "code",
   "execution_count": 3,
   "id": "85e6dbb0",
   "metadata": {},
   "outputs": [],
   "source": [
    "scraper = cloudscraper.create_scraper()\n",
    "headers = {\n",
    "\n",
    "'User-Agent': 'Mozilla/5.0 (Windows NT 10.0; Win64; x64) AppleWebKit/537.36 (KHTML, like Gecko) Chrome/120.0.0.0 Safari/537.36'\n",
    "\n",
    "}\n",
    "dados_rj = ['https://www.zapimoveis.com.br/aluguel/apartamentos/rj+rio-de-janeiro/?onde=%2CRio+de+Janeiro%2CRio+de+Janeiro%2C%2C%2C%2C%2Ccity%2CBR>Rio+de+Janeiro>NULL>Rio+de+Janeiro%2C-22.906847%2C-43.172897%2C&tipos=apartamento_residencial&pagina=1&transacao=aluguel'] + \\\n",
    "             ['https://www.zapimoveis.com.br/aluguel/apartamentos/rj+rio-de-janeiro/?onde=%2CRio+de+Janeiro%2CRio+de+Janeiro%2C%2C%2C%2C%2Ccity%2CBR>Rio+de+Janeiro>NULL>Rio+de+Janeiro%2C-22.906847%2C-43.172897%2C&tipos=apartamento_residencial&pagina={}&transacao=aluguel'.format(i) for i in range(2, 323)]\n",
    "\n"
   ]
  },
  {
   "cell_type": "code",
   "execution_count": 5,
   "id": "edf97c76",
   "metadata": {},
   "outputs": [],
   "source": [
    "data = []\n",
    "for dados in dados_rj:\n",
    "    response = scraper.get(dados, headers=headers)\n",
    "    response.raise_for_status()\n",
    "    soup = BeautifulSoup(response.content, 'html.parser')\n",
    "\n",
    "    pagina_atual = soup.find_all('li', {'data-cy' : 'rp-property-cd'})\n",
    "    \n",
    "    for item in pagina_atual:\n",
    "        local_element = item.find('h2', {'data-cy': 'rp-cardProperty-location-txt'})\n",
    "        local = local_element.text.strip() if local_element else 'NA'\n",
    "\n",
    "        area_element = item.find('li', {'data-cy': 'rp-cardProperty-propertyArea-txt'})\n",
    "        area = area_element.text.strip() if area_element else 'NA'\n",
    "        \n",
    "        quartos_element = item.find('li', {'data-cy': 'rp-cardProperty-bedroomQuantity-txt'})\n",
    "        quartos = quartos_element.text.strip() if quartos_element else 'NA'\n",
    "        \n",
    "        banheiros_element = item.find('li', {'data-cy': 'rp-cardProperty-bathroomQuantity-txt'})\n",
    "        banheiros = banheiros_element.text.strip() if banheiros_element else 'NA'\n",
    "        \n",
    "        vagas_element = item.find('li', {'data-cy': 'rp-cardProperty-parkingSpacesQuantity-txt'})\n",
    "        vagas = vagas_element.text.strip() if vagas_element else 'NA' \n",
    "\n",
    "        preco_element = item.find('div', {'data-cy' : 'rp-cardProperty-price-txt'})\n",
    "        preco = preco_element.text.strip() if preco_element else 'NA'\n",
    "        \n",
    "        link_element = item.find('a', href=True)\n",
    "        link = None\n",
    "        if link_element and link_element['href'].startswith('https://www.zapimoveis.com.br/imovel/'):\n",
    "            link = link_element['href']\n",
    "\n",
    "        data.append({\n",
    "            'Local': local, \n",
    "            'Preço': preco,\n",
    "            'Área': area,\n",
    "            'Quartos': quartos,\n",
    "            'Banheiros': banheiros,\n",
    "            'Vagas': vagas,\n",
    "            'Link': link\n",
    "        })\n",
    "    \n",
    "    time.sleep(1) "
   ]
  },
  {
   "cell_type": "code",
   "execution_count": 6,
   "id": "a55ef0ad",
   "metadata": {},
   "outputs": [],
   "source": [
    "database = pd.DataFrame(data)\n",
    "database.to_csv('imoveis_rio.csv', index = False)"
   ]
  }
 ],
 "metadata": {
  "kernelspec": {
   "display_name": "projImoveis",
   "language": "python",
   "name": "python3"
  },
  "language_info": {
   "codemirror_mode": {
    "name": "ipython",
    "version": 3
   },
   "file_extension": ".py",
   "mimetype": "text/x-python",
   "name": "python",
   "nbconvert_exporter": "python",
   "pygments_lexer": "ipython3",
   "version": "3.12.5"
  }
 },
 "nbformat": 4,
 "nbformat_minor": 5
}
